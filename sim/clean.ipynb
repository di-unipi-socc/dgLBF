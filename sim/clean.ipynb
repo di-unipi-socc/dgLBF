{
 "cells": [
  {
   "cell_type": "markdown",
   "metadata": {},
   "source": [
    "## Import libraries"
   ]
  },
  {
   "cell_type": "code",
   "execution_count": 4,
   "metadata": {},
   "outputs": [],
   "source": [
    "import pandas as pd\n",
    "import numpy as np"
   ]
  },
  {
   "cell_type": "markdown",
   "metadata": {},
   "source": [
    "## Read the data\n",
    "\n",
    "Get a dataframe for each experiment"
   ]
  },
  {
   "cell_type": "code",
   "execution_count": 5,
   "metadata": {},
   "outputs": [],
   "source": [
    "df_ba = pd.read_parquet('results/BA-norel/results.parquet')\n",
    "df_er = pd.read_parquet('results/ER-norel/results.parquet')"
   ]
  },
  {
   "cell_type": "code",
   "execution_count": 7,
   "metadata": {},
   "outputs": [
    {
     "data": {
      "text/plain": [
       "array(['110396', '151195', '300997', '10664', '21297', '30997', '70799',\n",
       "       '90597', '42', '80824'], dtype=object)"
      ]
     },
     "execution_count": 7,
     "metadata": {},
     "output_type": "execute_result"
    }
   ],
   "source": [
    "df_ba[\"Seed\"].unique()"
   ]
  },
  {
   "cell_type": "code",
   "execution_count": 8,
   "metadata": {},
   "outputs": [],
   "source": [
    "dfs = {\n",
    "    \"ba\": df_ba,\n",
    "    \"er\": df_er,\n",
    "}"
   ]
  },
  {
   "cell_type": "code",
   "execution_count": 9,
   "metadata": {},
   "outputs": [
    {
     "name": "stdout",
     "output_type": "stream",
     "text": [
      "ba (1400, 28)\n",
      "er (1400, 28)\n"
     ]
    }
   ],
   "source": [
    "for a, df in dfs.items():\n",
    "    print(a, df.shape)"
   ]
  },
  {
   "cell_type": "markdown",
   "metadata": {},
   "source": [
    "## Set topology"
   ]
  },
  {
   "cell_type": "code",
   "execution_count": 10,
   "metadata": {},
   "outputs": [],
   "source": [
    "for name, df in dfs.items():\n",
    "    if name.startswith(\"ba\"):\n",
    "        df[\"Topology\"] = \"Barabasi-Albert\"\n",
    "    elif name.startswith(\"er\"):\n",
    "        df[\"Topology\"] = \"Erdos-Renyi\"\n",
    "    else:\n",
    "        raise ValueError(\"Unknown topology\")"
   ]
  },
  {
   "cell_type": "markdown",
   "metadata": {},
   "source": [
    "Remove unused columns (w.r.t further analysis)"
   ]
  },
  {
   "cell_type": "code",
   "execution_count": 11,
   "metadata": {},
   "outputs": [],
   "source": [
    "cols_to_get = ['Output', 'Inferences', 'Time', 'Seed', 'RepProb', 'Infr', 'Flows',\n",
    "       'Nodes', 'Edges', 'Topology', 'Timeout', 'timestamp', 'time_this_iter_s', 'time_total_s']\n",
    "\n",
    "for df in dfs.values():\n",
    "    df.drop(columns=[col for col in df.columns if col not in cols_to_get], inplace=True)"
   ]
  },
  {
   "cell_type": "markdown",
   "metadata": {},
   "source": [
    "Set the types of the columns"
   ]
  },
  {
   "cell_type": "code",
   "execution_count": 12,
   "metadata": {},
   "outputs": [],
   "source": [
    "for df in dfs.values():\n",
    "    df['Output'] = df['Output'].apply(lambda x: 'no_result' if x == \"{}\" else x)\n",
    "    df['Output'] = df['Output'].apply(lambda x: 'success' if x not in ['no_result', 'timeout'] else x)\n",
    "    df[\"Inferences\"] = df[\"Inferences\"].replace({\"None\": 0})\n",
    "\n",
    "    df[\"Inferences\"] = df[\"Inferences\"].astype(np.int64)\n",
    "    df[\"Time\"] = df[\"Time\"].astype(np.float64)\n",
    "    df[\"Seed\"] = df[\"Seed\"].astype(np.int32)\n",
    "    df[\"RepProb\"] = df[\"RepProb\"].astype(np.float64)\n",
    "    df[\"Flows\"] = df[\"Flows\"].astype(np.int32)\n",
    "    df[\"Nodes\"] = df[\"Nodes\"].astype(np.int16)\n",
    "    df[\"Edges\"] = df[\"Edges\"].astype(np.int32)\n",
    "    df[\"Timeout\"] = 1800"
   ]
  },
  {
   "cell_type": "markdown",
   "metadata": {},
   "source": [
    "Statistics on the number of _success_, _timeout_ and _no_result_ labels"
   ]
  },
  {
   "cell_type": "code",
   "execution_count": 13,
   "metadata": {},
   "outputs": [
    {
     "name": "stdout",
     "output_type": "stream",
     "text": [
      "ba Output\n",
      "success    1366\n",
      "timeout      34\n",
      "dtype: int64\n",
      "er Output\n",
      "success    1400\n",
      "dtype: int64\n"
     ]
    }
   ],
   "source": [
    "for name, df in dfs.items():\n",
    "    print(name, df.groupby(\"Output\").size())"
   ]
  },
  {
   "cell_type": "markdown",
   "metadata": {},
   "source": [
    "Merge all the dataset into two dataframes: one for the _original_ and one for the _modified/new_ methodology"
   ]
  },
  {
   "cell_type": "code",
   "execution_count": 14,
   "metadata": {},
   "outputs": [],
   "source": [
    "# df_merged = pd.concat(list(dfs.values()))\n",
    "# df_sorted = df_merged.sort_index().sort_values(by=[\"Topology\", \"Seed\", \"RepProb\", \"Nodes\", \"Flows\"])\n",
    "# df_sorted.to_parquet(\"results/all.parquet\")\n",
    "\n",
    "df_ba.to_parquet(\"results/clean/ba-norel.parquet\")\n",
    "df_er.to_parquet(\"results/clean/er-norel.parquet\")"
   ]
  }
 ],
 "metadata": {
  "kernelspec": {
   "display_name": ".venv",
   "language": "python",
   "name": "python3"
  },
  "language_info": {
   "codemirror_mode": {
    "name": "ipython",
    "version": 3
   },
   "file_extension": ".py",
   "mimetype": "text/x-python",
   "name": "python",
   "nbconvert_exporter": "python",
   "pygments_lexer": "ipython3",
   "version": "3.11.0rc1"
  }
 },
 "nbformat": 4,
 "nbformat_minor": 2
}
